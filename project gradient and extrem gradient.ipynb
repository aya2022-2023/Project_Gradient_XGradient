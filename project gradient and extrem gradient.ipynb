{
 "cells": [
  {
   "cell_type": "code",
   "execution_count": 7,
   "id": "5506f3c8",
   "metadata": {},
   "outputs": [
    {
     "name": "stdout",
     "output_type": "stream",
     "text": [
      "Requirement already satisfied: xgboost in c:\\users\\aya sakhri\\anaconda3\\lib\\site-packages (1.7.6)\n",
      "Requirement already satisfied: numpy in c:\\users\\aya sakhri\\anaconda3\\lib\\site-packages (from xgboost) (1.21.5)\n",
      "Requirement already satisfied: scipy in c:\\users\\aya sakhri\\anaconda3\\lib\\site-packages (from xgboost) (1.9.1)\n"
     ]
    }
   ],
   "source": [
    "!pip install xgboost\n"
   ]
  },
  {
   "cell_type": "code",
   "execution_count": 8,
   "id": "2d266272",
   "metadata": {},
   "outputs": [],
   "source": [
    "# Import libraries\n",
    "from sklearn.preprocessing import MinMaxScaler\n",
    "from sklearn.metrics import confusion_matrix\n",
    "from sklearn.ensemble import GradientBoostingClassifier\n",
    "from xgboost import XGBClassifier\n",
    "from sklearn.model_selection import train_test_split\n",
    "from sklearn.metrics import accuracy_score\n",
    "import pandas as pd\n",
    "\n"
   ]
  },
  {
   "cell_type": "code",
   "execution_count": 10,
   "id": "91fd4e48",
   "metadata": {},
   "outputs": [
    {
     "name": "stderr",
     "output_type": "stream",
     "text": [
      "C:\\Users\\Aya Sakhri\\AppData\\Local\\Temp\\ipykernel_21180\\4051549200.py:14: FutureWarning: The frame.append method is deprecated and will be removed from pandas in a future version. Use pandas.concat instead.\n",
      "  full_data = train_data.append(test_data)\n"
     ]
    }
   ],
   "source": [
    "# Read the data\n",
    "train_data = pd.read_csv('train.csv')\n",
    "test_data = pd.read_csv('test.csv')\n",
    "test_data.head(4)\n",
    "\n",
    "# Extract the target variable\n",
    "y_train = train_data['Survived']\n",
    "\n",
    "# Remove the target variable from the training data\n",
    "train_data.drop(labels='Survived', axis=1, inplace=True)\n",
    "train_data.head()\n",
    "\n",
    "# Concatenate train and test data for preprocessing\n",
    "full_data = train_data.append(test_data)\n",
    "full_data.head()\n",
    "\n",
    "# List the column names\n",
    "list(full_data.columns)\n",
    "\n",
    "# Drop unnecessary columns\n",
    "drop_columns = ['Name', 'Age', 'SibSp', 'Parch', 'Ticket', 'Cabin', 'Embarked']\n",
    "full_data.drop(labels=drop_columns, axis=1, inplace=True)\n",
    "full_data.head()\n",
    "\n",
    "# Convert the 'Sex' column from string to number using one-hot encoding\n",
    "full_data = pd.get_dummies(full_data, columns=['Sex'])\n",
    "\n",
    "# Separate the features into training and test sets\n",
    "X_train = full_data.values[0:891]\n",
    "X_test = full_data.values[891:]\n",
    "\n"
   ]
  },
  {
   "cell_type": "code",
   "execution_count": 11,
   "id": "448ebcc5",
   "metadata": {},
   "outputs": [],
   "source": [
    "# Split the data into training and validation sets\n",
    "X_train, X_val, y_train, y_val = train_test_split(X_train, y_train, test_size=0.25, random_state=12)\n",
    "\n",
    "# Create an instance of the XGBClassifier\n",
    "XGB_Clf = XGBClassifier(random_state=0)\n",
    "\n",
    "# Apply XGB\n",
    "# Fit the model\n",
    "XGB_Clf.fit(X_train, y_train)\n",
    "\n",
    "# Predict\n",
    "predictions = XGB_Clf.predict(X_val)\n",
    "\n",
    "\n"
   ]
  },
  {
   "cell_type": "code",
   "execution_count": 12,
   "id": "05b04989",
   "metadata": {},
   "outputs": [
    {
     "name": "stdout",
     "output_type": "stream",
     "text": [
      "Training score: 99.10179640718563 %\n",
      "Validation score: 72.19730941704036 %\n"
     ]
    }
   ],
   "source": [
    "# Check the score\n",
    "accuracy_train = XGB_Clf.score(X_train, y_train)\n",
    "accuracy_val = XGB_Clf.score(X_val, y_val)\n",
    "\n",
    "# Print the scores\n",
    "print('Training score:', accuracy_train * 100, '%')\n",
    "print('Validation score:', accuracy_val * 100, '%')"
   ]
  },
  {
   "cell_type": "code",
   "execution_count": null,
   "id": "9f30b0d1",
   "metadata": {},
   "outputs": [],
   "source": []
  }
 ],
 "metadata": {
  "kernelspec": {
   "display_name": "Python 3 (ipykernel)",
   "language": "python",
   "name": "python3"
  },
  "language_info": {
   "codemirror_mode": {
    "name": "ipython",
    "version": 3
   },
   "file_extension": ".py",
   "mimetype": "text/x-python",
   "name": "python",
   "nbconvert_exporter": "python",
   "pygments_lexer": "ipython3",
   "version": "3.9.13"
  }
 },
 "nbformat": 4,
 "nbformat_minor": 5
}
